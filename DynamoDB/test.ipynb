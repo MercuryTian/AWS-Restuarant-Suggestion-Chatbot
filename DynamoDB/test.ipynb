{
 "cells": [
  {
   "cell_type": "code",
   "execution_count": 19,
   "metadata": {},
   "outputs": [],
   "source": [
    "import json\n",
    "\n",
    "with open(\"yelp1.json\", 'r') as data_file:\n",
    "    data = json.load(data_file)\n",
    "\n",
    "new_file = []\n",
    "for cuisine, rest_info in data.items():\n",
    "    tmp = rest_info\n",
    "    for rest in tmp:\n",
    "        rest[\"cuisine\"] = cuisine\n",
    "    new_file.append(tmp)\n",
    "    \n",
    "with open(\"data.json\", 'w') as data_file:\n",
    "    data = json.dump(new_file, data_file)"
   ]
  },
  {
   "cell_type": "code",
   "execution_count": 31,
   "metadata": {},
   "outputs": [],
   "source": [
    "with open(\"data.json\", \"r\") as data_file:\n",
    "    data = json.load(data_file)\n",
    "\n",
    "new_file = []\n",
    "for element in data:\n",
    "    for rest in element:\n",
    "        new_file.append(rest)\n",
    "\n",
    "with open(\"yelp1.json\", \"w\") as data_file:\n",
    "    json.dump(new_file, data_file)"
   ]
  },
  {
   "cell_type": "code",
   "execution_count": 46,
   "metadata": {},
   "outputs": [
    {
     "name": "stdout",
     "output_type": "stream",
     "text": [
      "Table status: CREATING\n"
     ]
    }
   ],
   "source": [
    "from __future__ import print_function # Python 2/3 compatibility\n",
    "import boto3\n",
    "import json\n",
    "import decimal\n",
    "import datetime\n",
    "\n",
    "dynamodb = boto3.resource('dynamodb', region_name='us-east-1')\n",
    "\n",
    "### create table ###\n",
    "\n",
    "table = dynamodb.create_table(\n",
    "    TableName='yelp-restaurants',\n",
    "\n",
    "    KeySchema = [\n",
    "        {\n",
    "            'AttributeName': 'cuisine',\n",
    "            'KeyType': 'HASH' # The values of two partition keys could be the same\n",
    "        },\n",
    "        {\n",
    "            'AttributeName': 'id',\n",
    "            'KeyType': 'RANGE'\n",
    "        }\n",
    "    ],\n",
    "\n",
    "    AttributeDefinitions=[\n",
    "        {\n",
    "            'AttributeName': 'cuisine',\n",
    "            'AttributeType': 'S'\n",
    "        },\n",
    "        {\n",
    "            'AttributeName': 'id',\n",
    "            'AttributeType': 'S'\n",
    "        }\n",
    "    ],\n",
    "\n",
    "    ProvisionedThroughput={\n",
    "        'ReadCapacityUnits': 10,\n",
    "        'WriteCapacityUnits': 10\n",
    "    }\n",
    ")\n",
    "\n",
    "print(\"Table status:\", table.table_status)\n"
   ]
  },
  {
   "cell_type": "code",
   "execution_count": 50,
   "metadata": {},
   "outputs": [],
   "source": [
    "### import JSON to items ###\n",
    "from datetime import *\n",
    "table = dynamodb.Table('yelp-restaurants')\n",
    "\n",
    "with open(\"yelp1.json\", 'r') as json_file:\n",
    "    data = json.load(json_file, parse_float = decimal.Decimal)\n",
    "    for restaurant in data:\n",
    "        cuisine = restaurant[\"cuisine\"]\n",
    "        ID = restaurant[\"id\"]\n",
    "        name = restaurant[\"name\"]\n",
    "#         price = restaurant[\"price\"]\n",
    "        coord = \"coordinates are not available\" if \"coordinates\" not in restaurant else restaurant[\"coordinates\"]\n",
    "        location = \"location is not available\" if \"location\" not in restaurant else restaurant[\"location\"] \n",
    "        cate = \"categories are not available\" if \"categories\" not in restaurant else restaurant[\"categories\"]\n",
    "        time = datetime.now().strftime(\"%Y-%m-%d %H:%M:%S\")\n",
    "\n",
    "        table.put_item(\n",
    "            Item = {\n",
    "                'cuisine': cuisine,\n",
    "                'id': ID,\n",
    "                'name': name,\n",
    "                'coordinates': coord,\n",
    "                'location': location,\n",
    "                'categories': cate,\n",
    "                'insertedAtTimestamp': time\n",
    "            }       \n",
    "        )"
   ]
  },
  {
   "cell_type": "code",
   "execution_count": 26,
   "metadata": {},
   "outputs": [],
   "source": [
    "import json\n",
    "\n",
    "with open(\"yelp1.json\", \"r\") as data_file:\n",
    "    data = json.load(data_file)\n",
    "\n",
    "\n",
    "i = 1\n",
    "new_file = []\n",
    "for element in data:\n",
    "    tmp = element\n",
    "    if \"price\" in tmp:\n",
    "        tmp.pop(\"price\")\n",
    "    if \"coordinates\" in tmp:\n",
    "        tmp.pop(\"coordinates\")\n",
    "    if \"location\" in tmp:\n",
    "        tmp.pop(\"location\")\n",
    "    if \"categories\" in tmp:\n",
    "        tmp.pop(\"categories\")\n",
    "    dic_inst = {\"index\": {\"_index\": \"restaurants\", \"_type\": \"Restaurant\", \"_id\": str(i)}}\n",
    "    new_file.append(dic_inst)\n",
    "    new_file.append(tmp)\n",
    "    i += 1\n",
    "\n",
    "with open(\"yelp_es.json\", \"w\") as data_file:\n",
    "    json.dump(new_file, data_file)\n"
   ]
  },
  {
   "cell_type": "code",
   "execution_count": null,
   "metadata": {},
   "outputs": [],
   "source": []
  }
 ],
 "metadata": {
  "kernelspec": {
   "display_name": "Python 2",
   "language": "python",
   "name": "python2"
  },
  "language_info": {
   "codemirror_mode": {
    "name": "ipython",
    "version": 2
   },
   "file_extension": ".py",
   "mimetype": "text/x-python",
   "name": "python",
   "nbconvert_exporter": "python",
   "pygments_lexer": "ipython2",
   "version": "2.7.10"
  }
 },
 "nbformat": 4,
 "nbformat_minor": 2
}
